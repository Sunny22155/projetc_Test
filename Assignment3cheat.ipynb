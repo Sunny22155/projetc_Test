{
 "cells": [
  {
   "cell_type": "code",
   "outputs": [
    {
     "ename": "IndexError",
     "evalue": "list assignment index out of range",
     "output_type": "error",
     "traceback": [
      "\u001B[1;31m---------------------------------------------------------------------------\u001B[0m",
      "\u001B[1;31mIndexError\u001B[0m                                Traceback (most recent call last)",
      "Cell \u001B[1;32mIn[1], line 2\u001B[0m\n\u001B[0;32m      1\u001B[0m a \u001B[38;5;241m=\u001B[39m (\u001B[38;5;241m1\u001B[39m, \u001B[38;5;241m2\u001B[39m, [\u001B[38;5;241m3\u001B[39m, \u001B[38;5;241m4\u001B[39m], \u001B[38;5;241m5\u001B[39m)\n\u001B[1;32m----> 2\u001B[0m \u001B[43ma\u001B[49m\u001B[43m[\u001B[49m\u001B[38;5;241;43m2\u001B[39;49m\u001B[43m]\u001B[49m\u001B[43m[\u001B[49m\u001B[38;5;241;43m2\u001B[39;49m\u001B[43m]\u001B[49m \u001B[38;5;241m=\u001B[39m \u001B[38;5;241m4\u001B[39m\n\u001B[0;32m      3\u001B[0m b\u001B[38;5;241m=\u001B[39ma[\u001B[38;5;241m0\u001B[39m:\u001B[38;5;241m3\u001B[39m]\n\u001B[0;32m      4\u001B[0m \u001B[38;5;28mprint\u001B[39m(b)\n",
      "\u001B[1;31mIndexError\u001B[0m: list assignment index out of range"
     ]
    }
   ],
   "source": [
    "a = (1, 2, [3, 4], 5)\n",
    "a[2][2] = 4\n",
    "b=a[0:3]\n",
    "print(b)"
   ],
   "metadata": {
    "collapsed": false,
    "ExecuteTime": {
     "end_time": "2024-03-10T14:28:33.991734500Z",
     "start_time": "2024-03-10T14:28:33.697506700Z"
    }
   },
   "id": "124d7306a625f3f3",
   "execution_count": 1
  },
  {
   "cell_type": "code",
   "outputs": [],
   "source": [
    "import random\n",
    "\n",
    "def fizz(buzz):\n",
    "    result = []\n",
    "\n",
    "    for i in range(buzz):\n",
    "        if (i%3 == 0) and (i % 5 == 0):\n",
    "            result.append(random.randrange(1, 7))\n",
    "        elif i % 3 == 0:\n",
    "            result = result[:len(result)-1]\n",
    "        elif i % 5 == 0:\n",
    "            continue\n",
    "        else: result.append(i)\n",
    "\n",
    "    return len(result)\n"
   ],
   "metadata": {
    "collapsed": false,
    "ExecuteTime": {
     "end_time": "2024-03-10T14:26:58.571622400Z",
     "start_time": "2024-03-10T14:26:58.559718600Z"
    }
   },
   "id": "b25dca0a31a35aae",
   "execution_count": 78
  },
  {
   "cell_type": "code",
   "outputs": [
    {
     "ename": "NameError",
     "evalue": "name 'fizz' is not defined",
     "output_type": "error",
     "traceback": [
      "\u001B[1;31m---------------------------------------------------------------------------\u001B[0m",
      "\u001B[1;31mNameError\u001B[0m                                 Traceback (most recent call last)",
      "Cell \u001B[1;32mIn[7], line 1\u001B[0m\n\u001B[1;32m----> 1\u001B[0m \u001B[43mfizz\u001B[49m(\u001B[38;5;241m8\u001B[39m)\n",
      "\u001B[1;31mNameError\u001B[0m: name 'fizz' is not defined"
     ]
    }
   ],
   "source": [
    "fizz(8)"
   ],
   "metadata": {
    "collapsed": false,
    "ExecuteTime": {
     "end_time": "2024-03-10T14:30:37.040180700Z",
     "start_time": "2024-03-10T14:30:36.998690500Z"
    }
   },
   "id": "c8cf9cf21c980487",
   "execution_count": 7
  },
  {
   "cell_type": "code",
   "outputs": [],
   "source": [
    "tpl1 = (1, 2, 3, 'name', 'name')\n",
    "tpl2 = (1, 2, 3, 'name', 'lol')\n",
    "tpl1 += tpl2"
   ],
   "metadata": {
    "collapsed": false,
    "ExecuteTime": {
     "end_time": "2024-03-10T14:32:21.089554800Z",
     "start_time": "2024-03-10T14:32:21.080044200Z"
    }
   },
   "id": "8c32c2f398e74f5a",
   "execution_count": 8
  },
  {
   "cell_type": "code",
   "outputs": [
    {
     "name": "stdout",
     "output_type": "stream",
     "text": [
      "(1, 2, 3, 'name', 'name', 1, 2, 3, 'name', 'lol')\n"
     ]
    }
   ],
   "source": [
    "print(tpl1)"
   ],
   "metadata": {
    "collapsed": false,
    "ExecuteTime": {
     "end_time": "2024-03-10T14:32:33.078545700Z",
     "start_time": "2024-03-10T14:32:33.063670500Z"
    }
   },
   "id": "796d69f9b99ebc0a",
   "execution_count": 9
  },
  {
   "cell_type": "code",
   "outputs": [],
   "source": [
    "def get(elements):\n",
    "    for element in elements:\n",
    "        if isinstance(element, int):\n",
    "            return element"
   ],
   "metadata": {
    "collapsed": false,
    "ExecuteTime": {
     "end_time": "2024-03-10T14:33:35.589768900Z",
     "start_time": "2024-03-10T14:33:35.473700800Z"
    }
   },
   "id": "f51435018ff6a064",
   "execution_count": 10
  },
  {
   "cell_type": "code",
   "outputs": [],
   "source": [],
   "metadata": {
    "collapsed": false,
    "ExecuteTime": {
     "end_time": "2024-03-10T17:00:14.318764Z",
     "start_time": "2024-03-10T17:00:14.301089500Z"
    }
   },
   "id": "2a83635c6293e862",
   "execution_count": 14
  },
  {
   "cell_type": "code",
   "outputs": [
    {
     "name": "stdout",
     "output_type": "stream",
     "text": [
      "2\n"
     ]
    }
   ],
   "source": [
    "def sum_numbers(start=-1, end=3, step=1):\n",
    "    return sum(range(start, end, step))\n",
    "\n",
    "print(sum_numbers(2))"
   ],
   "metadata": {
    "collapsed": false,
    "ExecuteTime": {
     "end_time": "2024-03-10T17:09:17.909839500Z",
     "start_time": "2024-03-10T17:09:17.874990600Z"
    }
   },
   "id": "1db8e27c188f17d1",
   "execution_count": 18
  },
  {
   "cell_type": "code",
   "outputs": [],
   "source": [],
   "metadata": {
    "collapsed": false
   },
   "id": "69dadce783ee3b17"
  }
 ],
 "metadata": {
  "kernelspec": {
   "display_name": "Python 3",
   "language": "python",
   "name": "python3"
  },
  "language_info": {
   "codemirror_mode": {
    "name": "ipython",
    "version": 2
   },
   "file_extension": ".py",
   "mimetype": "text/x-python",
   "name": "python",
   "nbconvert_exporter": "python",
   "pygments_lexer": "ipython2",
   "version": "2.7.6"
  }
 },
 "nbformat": 4,
 "nbformat_minor": 5
}
